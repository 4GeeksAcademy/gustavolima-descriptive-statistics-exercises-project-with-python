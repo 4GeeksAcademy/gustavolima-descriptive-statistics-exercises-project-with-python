{
    "cells": [
        {
            "attachments": {},
            "cell_type": "markdown",
            "id": "ac622319",
            "metadata": {},
            "source": [
                "# Descriptive Statistics Problems"
            ]
        },
        {
            "attachments": {},
            "cell_type": "markdown",
            "id": "aa8993e4",
            "metadata": {},
            "source": [
                "### Exercise 1"
            ]
        },
        {
            "attachments": {},
            "cell_type": "markdown",
            "id": "5e0ab0d5",
            "metadata": {},
            "source": [
                "As right now, you are familliar with numpy, we are going to use numpy to get some data statistics.\n",
                "\n",
                "First, lets create an array of 20 elements distributed normally (Gaussian):\n",
                "\n",
                "Use the np.random.normal function to create some data, using 0,1,20 as parameters because we want a one dimentional array of 20 numbers distributed normally (Gaussian)"
            ]
        },
        {
            "cell_type": "code",
            "execution_count": 1,
            "id": "34720ab6",
            "metadata": {},
            "outputs": [
                {
                    "name": "stdout",
                    "output_type": "stream",
                    "text": [
                        "[-17.49765473   3.42680403  11.53035803  -2.52436037   9.81320787\n",
                        "   5.14218841   2.21179669 -10.70043331  -1.89495831   2.55001444\n",
                        "  -4.58026986   4.35163488  -5.8359505    8.16847072   6.72720806\n",
                        "  -1.04411143  -5.31280377  10.29732685  -4.38135623 -11.18318246]\n"
                    ]
                }
            ],
            "source": [
                "#import libraries\n",
                "import numpy as np\n",
                "import matplotlib.pyplot as plt\n",
                "\n",
                "# Set seed in order to get similar results\n",
                "np.random.seed(100)\n",
                "\n",
                "# create the data\n",
                "array = np.random.normal(0, 1, 20) * 10\n",
                "\n",
                "#print results\n",
                "print(array)"
            ]
        },
        {
            "cell_type": "code",
            "execution_count": 15,
            "id": "49c55822",
            "metadata": {},
            "outputs": [
                {
                    "data": {
                        "text/plain": [
                            "-0.03680354880600767"
                        ]
                    },
                    "execution_count": 15,
                    "metadata": {},
                    "output_type": "execute_result"
                }
            ],
            "source": [
                "#Use numpy to get the mean of your data\n",
                "np.mean(array)\n"
            ]
        },
        {
            "cell_type": "code",
            "execution_count": 16,
            "id": "03529459",
            "metadata": {},
            "outputs": [
                {
                    "data": {
                        "text/plain": [
                            "58.749764031405086"
                        ]
                    },
                    "execution_count": 16,
                    "metadata": {},
                    "output_type": "execute_result"
                }
            ],
            "source": [
                "#get the variance of your data\n",
                "np.var(array)"
            ]
        },
        {
            "cell_type": "code",
            "execution_count": 17,
            "id": "e53f30c5",
            "metadata": {},
            "outputs": [
                {
                    "data": {
                        "text/plain": [
                            "7.664839465468607"
                        ]
                    },
                    "execution_count": 17,
                    "metadata": {},
                    "output_type": "execute_result"
                }
            ],
            "source": [
                "# Standard deviation\n",
                "np.std(array)"
            ]
        },
        {
            "cell_type": "code",
            "execution_count": 27,
            "id": "9bce852f",
            "metadata": {},
            "outputs": [
                {
                    "name": "stdout",
                    "output_type": "stream",
                    "text": [
                        "ModeResult(mode=array([-17.49765473]), count=array([1]))\n"
                    ]
                }
            ],
            "source": [
                "#import libraries and print the mode\n",
                "from scipy import stats\n",
                "\n",
                "# Mode for continuous array\n",
                "arraymode = stats.mode(array, keepdims=True)\n",
                "print(arraymode)"
            ]
        },
        {
            "cell_type": "code",
            "execution_count": 11,
            "id": "c682cb6e",
            "metadata": {},
            "outputs": [
                {
                    "data": {
                        "text/plain": [
                            "0.5838426291538636"
                        ]
                    },
                    "execution_count": 11,
                    "metadata": {},
                    "output_type": "execute_result"
                }
            ],
            "source": [
                "# Median\n",
                "np.median(array)"
            ]
        },
        {
            "cell_type": "code",
            "execution_count": 51,
            "id": "39c3fabd",
            "metadata": {},
            "outputs": [
                {
                    "name": "stdout",
                    "output_type": "stream",
                    "text": [
                        "1st Quantile: -4.763403333399457\n",
                        "2nd Quantile: 0.5838426291538636\n",
                        "3rd Quantile: 5.538443324732018\n"
                    ]
                }
            ],
            "source": [
                "# Print the Quantiles\n",
                "print(f'1st Quantile:', np.quantile(array, 0.25))\n",
                "print(f'2nd Quantile:', np.quantile(array, 0.50))\n",
                "print(f'3rd Quantile:', np.quantile(array, 0.75))\n",
                "\n",
                "# This match with np.median, why?\n",
                "# Because it means the data is symmetric, meaning that there's an equal distributio\n",
                "# of the data around the center point. \n"
            ]
        },
        {
            "attachments": {},
            "cell_type": "markdown",
            "id": "46c70c3d",
            "metadata": {},
            "source": [
                "### Exercise 2\n",
                "\n",
                "Write a Python program to calculate the standard deviation of the following data:\n",
                "```py\n",
                "data = [4, 2, 5, 8, 6]\n",
                "```"
            ]
        },
        {
            "cell_type": "code",
            "execution_count": 50,
            "id": "d590308e",
            "metadata": {},
            "outputs": [
                {
                    "name": "stdout",
                    "output_type": "stream",
                    "text": [
                        "[4, 2, 5, 8, 6]\n",
                        "2.0\n"
                    ]
                }
            ],
            "source": [
                "import math\n",
                "import sys\n",
                "\n",
                "# Define the standard deviation function\n",
                "\n",
                "def sd_calc(data):\n",
                "    mean = sum(data) / len(data)\n",
                "    variance = sum((x - mean)**2 for x in data) / len(data)\n",
                "    standard_deviation = math.sqrt(variance)\n",
                "    return standard_deviation\n",
                "  \n",
                "\n",
                "# Define the average function\n",
                "\n",
                "def avg_calc(ls):\n",
                "    pass\n",
                "\n",
                "\n",
                "data = [4, 2, 5, 8, 6]\n",
                "\n",
                "#print the data\n",
                "print(data)\n",
                "\n",
                "#print the standard deviation of the data\n",
                "print(sd_calc(data))\n"
            ]
        },
        {
            "attachments": {},
            "cell_type": "markdown",
            "id": "04b71791",
            "metadata": {},
            "source": [
                "Source:\n",
                "\n",
                "https://www.w3resource.com/"
            ]
        }
    ],
    "metadata": {
        "interpreter": {
            "hash": "9248718ffe6ce6938b217e69dbcc175ea21f4c6b28a317e96c05334edae734bb"
        },
        "kernelspec": {
            "display_name": "Python 3.9.12 ('ML-BOOTCAMP')",
            "language": "python",
            "name": "python3"
        },
        "language_info": {
            "codemirror_mode": {
                "name": "ipython",
                "version": 3
            },
            "file_extension": ".py",
            "mimetype": "text/x-python",
            "name": "python",
            "nbconvert_exporter": "python",
            "pygments_lexer": "ipython3",
            "version": "3.10.4"
        }
    },
    "nbformat": 4,
    "nbformat_minor": 5
}
